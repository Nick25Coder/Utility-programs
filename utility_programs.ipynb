{
  "nbformat": 4,
  "nbformat_minor": 0,
  "metadata": {
    "colab": {
      "name": "utility programs.ipynb",
      "provenance": []
    },
    "kernelspec": {
      "name": "python3",
      "display_name": "Python 3"
    }
  },
  "cells": [
    {
      "cell_type": "code",
      "metadata": {
        "id": "CB5PfauHOhYi"
      },
      "source": [
        "#  bill checker\n",
        "\n",
        "print(\"This is a bill checker\")\n",
        "print(\"Pls enter the no. of items in your list ⬇️ \")\n",
        "itemsno = int(input(\"how many items are in your list: \"))\n",
        "done = \"finished\"\n",
        "total = 0 \n",
        "ask = 1\n",
        "while ask <= itemsno :\n",
        "  item = input(\"price of item \"+ str(ask) + \": \")\n",
        "  ask += 1\n",
        "  total += int(item)\n",
        "  if item == done:\n",
        "    print(\"ok\")\n",
        "    break\n",
        "print  (\"Your total bill is\", str(total))"
      ],
      "execution_count": null,
      "outputs": []
    },
    {
      "cell_type": "code",
      "metadata": {
        "id": "alESN-l0PBNu"
      },
      "source": [
        "# Weight Converter #\n",
        "\n",
        "weight = int(input(\"What is your weight? \"))\n",
        "unit = input(\"Is it (L)bs or (K)g ? \")\n",
        "if unit.upper() == \"L\" :\n",
        "  converted = weight / 2.205\n",
        "  print(\"your weight in kg is: \", converted)\n",
        "else:\n",
        "  converted = weight * 2.205\n",
        "  print(\"Your weight in pounds is: \", converted )  "
      ],
      "execution_count": null,
      "outputs": []
    },
    {
      "cell_type": "code",
      "metadata": {
        "id": "MUd77BZaPDc1"
      },
      "source": [
        "# LCM #\n",
        "num1 = int(input(\"First number: \"))\n",
        "num2 = int(input(\"Second number: \"))\n",
        "if(num1 > num2 ):   # Use If condition to find the greatest number among these two.\n",
        "    max= num1\n",
        "else:\n",
        "    max= num2\n",
        "while(True):\n",
        "    if(max % num1 == 0 and max % num2 == 0):   \n",
        "        print(max, \"is the LCM.\")\n",
        "        break;\n",
        "    max= max+ 1"
      ],
      "execution_count": null,
      "outputs": []
    }
  ]
}